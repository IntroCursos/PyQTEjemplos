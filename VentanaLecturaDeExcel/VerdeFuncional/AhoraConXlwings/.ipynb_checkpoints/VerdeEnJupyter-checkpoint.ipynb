{
 "cells": [
  {
   "cell_type": "code",
   "execution_count": null,
   "metadata": {
    "collapsed": true
   },
   "outputs": [],
   "source": []
  },
  {
   "cell_type": "code",
   "execution_count": 1,
   "metadata": {
    "collapsed": true
   },
   "outputs": [],
   "source": [
    "import numpy as np\n",
    "import pandas as pd\n",
    "import pyomo.environ as pyomo\n",
    "from pyomo.environ import *\n",
    "import xlwings as xw"
   ]
  },
  {
   "cell_type": "code",
   "execution_count": 2,
   "metadata": {
    "collapsed": true
   },
   "outputs": [],
   "source": [
    "\n",
    "\n",
    "class verde(object):\n",
    "\n",
    "    #def __init__(self):\n",
    "    #    print(\"Iniciando la clase verde\")\n",
    "\n",
    "    def read_excel(self,filename=\"VerdeReducido2.xlsx\"):\n",
    "        wb = xw.Book(filename)\n",
    "        \n",
    "        try:\n",
    "            sht = wb.sheets['Resultado']\n",
    "        except:\n",
    "            wb.sheets.add(\"Resultado\")\n",
    "        \n",
    "        producto = wb.sheets[\"Producto\"].range('A1').options(pd.DataFrame, expand='table',dtype=\"float64\").value\n",
    "        contribucion = wb.sheets[\"Contribucion\"].range('A1').options(pd.DataFrame, expand='table').value\n",
    "        requerimientos = wb.sheets[\"Balance\"].range('A1').options(pd.DataFrame, expand='table').value\n",
    "        Inventario = wb.sheets[\"Inventario\"].range('A1').options(pd.DataFrame, expand='table').value\n",
    "\n",
    "\n",
    "        data = {\n",
    "            'Varproducto': producto,\n",
    "            'contribucion': contribucion,\n",
    "            'requeri': requerimientos,\n",
    "            'Inventario': Inventario}\n",
    "\n",
    "        self.WB= wb\n",
    "        return data\n",
    "\n",
    "    def read_excel_old(self, filename=\"VerdeReducido2.xlsx\"):\n",
    "        \"\"\"Read special Excel spreadsheet to input dict.\n",
    "\n",
    "        Args:\n",
    "            filename: path to a spreadsheet file\n",
    "\n",
    "        Returns\n",
    "            dict of DataFrames, to be passed to create_model()\n",
    "        \"\"\"\n",
    "        with pd.ExcelFile(filename) as xls:\n",
    "            producto = xls.parse('Producto').set_index('Materiales')\n",
    "            contribucion = xls.parse('Contribucion').set_index('Materiales')\n",
    "            requerimientos = xls.parse('Balance').set_index(\"Abreviaturas\")\n",
    "            Inventario = xls.parse('Inventario').set_index(\"Materiales\")\n",
    "\n",
    "        data = {\n",
    "            'Varproducto': producto,\n",
    "            'contribucion': contribucion,\n",
    "            'requeri': requerimientos,\n",
    "            'Inventario': Inventario}\n",
    "\n",
    "        return data\n",
    "\n",
    "    def CargarDatos(self,path='./VerdeReducido2.xlsx'):\n",
    "        self.Datos = self.read_excel(path)\n",
    "\n",
    "    def GuardarDatos(self):\n",
    "        sht = self.WB.sheets[\"Resultado\"]\n",
    "        sht.range('A1').value = self.DataFrame_Resultado\n",
    "\n",
    "    def Optimiza(self):\n",
    "        #Generar un try y catch para ver si ya se cargo los datos o poner otros\n",
    "        #Datos = read_excel('./VerdeReducido2.xlsx')\n",
    "        Datos = self.Datos\n",
    "        Datos[\"Varproducto\"].fillna(0,inplace=True)\n",
    "        Datos[\"contribucion\"].fillna(0,inplace=True)\n",
    "        Datos[\"requeri\"]= Datos[\"requeri\"][ Datos[\"requeri\"][\"MAX\"]!= 0]\n",
    "        #Datos[\"requeri\"] # Eliminando variables\n",
    "        # Variables a optimizar pollo carne arroz etc.\n",
    "        Ingredients =  list(Datos[\"Varproducto\"].index)\n",
    "        #Ingredients\n",
    "        Varproducto = Datos[\"Varproducto\"]\n",
    "\n",
    "        model = ConcreteModel(name=\"The Verde Problem\")\n",
    "\n",
    "        model.ingredient_vars = Var(Ingredients, bounds=(0,None), doc=\"The amount of each ingredient that is used\")\n",
    "\n",
    "        model.obj = Objective(expr=sum(Varproducto.Precio[i]*model.ingredient_vars[i] for i in Ingredients)/sum(model.ingredient_vars[i]*Datos[\"contribucion\"][\"Eficiencia\"][i]  for i in Ingredients) ,sense=minimize, doc=\"Total Cost of Ingredients per can\")\n",
    "\n",
    "        #Restriccion de kg finales entonces depende de la eficiencia\n",
    "        # Hay que modificar.\n",
    "        model.c0 = Constraint(expr=sum(model.ingredient_vars[i]*Datos[\"contribucion\"][\"Eficiencia\"][i]  for i in Ingredients) <= 4000, doc=\"PercentagesSum\")\n",
    "        model.c02 = Constraint(expr=sum(model.ingredient_vars[i]*Datos[\"contribucion\"][\"Eficiencia\"][i]  for i in Ingredients) >= 3800, doc=\"PercentagesSum2\")\n",
    "\n",
    "        composicionesQ = list(Datos[\"requeri\"].index)\n",
    "\n",
    "        #you can use rules to construct the constraints for all p \\in P.\n",
    "\n",
    "        def constraint1_ruleMin(m,p):\n",
    "        #    return sum(Datos[\"contribucion\"][p][i] * model.ingredient_vars[i] for i in Ingredients) >= Datos[\"requeri\"][\"MIN\"][p]\n",
    "            return ( (sum(Datos[\"contribucion\"][p][i] * model.ingredient_vars[i]*Datos[\"contribucion\"][\"Eficiencia\"][i] for i in Ingredients)/\n",
    "                              (sum( model.ingredient_vars[i]*Datos[\"contribucion\"][\"Eficiencia\"][i] for i in Ingredients)) )/100\n",
    "                              >= Datos[\"requeri\"][\"MIN\"][p])\n",
    "\n",
    "        #model.c1 = Constraint([p for p in Ps],rule=constraint2_rule)\n",
    "\n",
    "        def constraint1_ruleMax(m,p):\n",
    "        #   return sum(Datos[\"contribucion\"][p][i] * model.ingredient_vars[i] for i in Ingredients) <= Datos[\"requeri\"][\"MAX\"][p]\n",
    "            return ( (sum(Datos[\"contribucion\"][p][i] * model.ingredient_vars[i]*Datos[\"contribucion\"][\"Eficiencia\"][i] for i in Ingredients)/\n",
    "                              (sum( model.ingredient_vars[i]*Datos[\"contribucion\"][\"Eficiencia\"][i] for i in Ingredients)) )/100\n",
    "                              <= Datos[\"requeri\"][\"MAX\"][p])\n",
    "\n",
    "\n",
    "        def constraint1_ruleInventario(m,p):\n",
    "            return (model.ingredient_vars[p]  <= Datos[\"Inventario\"][\"Kgs\"][p])\n",
    "\n",
    "        model.c1 = Constraint(composicionesQ,rule=constraint1_ruleMin)\n",
    "\n",
    "        model.c2 = Constraint(composicionesQ,rule=constraint1_ruleMax)\n",
    "\n",
    "        model.c3 = Constraint(Ingredients,rule=constraint1_ruleInventario)\n",
    "\n",
    "        solver = SolverFactory('ipopt')\n",
    "        #status = solver.solve(model,tee=True)\n",
    "        status = solver.solve(model)\n",
    "\n",
    "        \"\"\"\n",
    "        print(\"Status = %s\" % status.solver.termination_condition)\n",
    "\n",
    "        for i in Ingredients:\n",
    "            print(\"%s = %f\" % (model.ingredient_vars[i], value(model.ingredient_vars[i])))\n",
    "\n",
    "        print(\"Objective = %f\" % value(model.obj))\n",
    "        \"\"\"\n",
    "\n",
    "        ing = []\n",
    "        canIng = []\n",
    "        ing.append(\"Status = \")\n",
    "        canIng.append(str(status.solver.termination_condition) )\n",
    "        for i in Ingredients:\n",
    "            ing.append(str(model.ingredient_vars[i]).replace(\"ingredient_vars[\",\"\").replace(\"]\",\"\"))\n",
    "            canIng.append( round( float(value(model.ingredient_vars[i])) ,4) )\n",
    "\n",
    "        ing.append(\"Objective = \")\n",
    "        canIng.append(str(value(model.obj)))\n",
    "        self.DataFrame_Resultado = pd.DataFrame(canIng,ing,columns=[\"Cantidad\"])\n",
    "        #return pd.DataFrame(canIng,ing,columns=[\"Cantidad\"])\n"
   ]
  },
  {
   "cell_type": "code",
   "execution_count": 4,
   "metadata": {},
   "outputs": [],
   "source": [
    "\n",
    "#import Verde\n",
    "\n",
    "\n",
    "if __name__ == \"__main__\":\n",
    "    #verde = Verde.verde()\n",
    "    verde = verde()\n",
    "    verde.CargarDatos('./info.xlsx')\n",
    "    verde.Optimiza()\n",
    "    verde.GuardarDatos()"
   ]
  },
  {
   "cell_type": "code",
   "execution_count": null,
   "metadata": {
    "collapsed": true
   },
   "outputs": [],
   "source": []
  },
  {
   "cell_type": "code",
   "execution_count": 217,
   "metadata": {},
   "outputs": [],
   "source": [
    "#def read_excel(self,filename=\"VerdeReducido2.xlsx\"):\n",
    "WB=\"\"\n",
    "def read_excel(filename=\"VerdeReducido2.xlsx\"):\n",
    "    global WB\n",
    "    wb = xw.Book(filename)\n",
    "\n",
    "    try:\n",
    "        sht = wb.sheets['Resultado']\n",
    "    except:\n",
    "        wb.sheets.add(\"Resultado\")\n",
    "\n",
    "    producto = wb.sheets[\"Producto\"].range('A1').options(pd.DataFrame, expand='table',dtype=\"float64\").value\n",
    "    contribucion = wb.sheets[\"Contribucion\"].range('A1').options(pd.DataFrame, expand='table').value\n",
    "    requerimientos = wb.sheets[\"Balance\"].range('A1').options(pd.DataFrame, expand='table').value\n",
    "    Inventario = wb.sheets[\"Inventario\"].range('A1').options(pd.DataFrame, expand='table').value\n",
    "    Restricciones = wb.sheets[\"Restricciones\"].range('A1').options(pd.DataFrame, expand='table').value\n",
    "\n",
    "    data = {\n",
    "        'Varproducto': producto,\n",
    "        'contribucion': contribucion,\n",
    "        'requeri': requerimientos,\n",
    "        'Inventario': Inventario,\n",
    "        \"Restricciones\":Restricciones}\n",
    "    \n",
    "    WB=wb\n",
    "    #self.WB= wb\n",
    "    return data"
   ]
  },
  {
   "cell_type": "code",
   "execution_count": 218,
   "metadata": {},
   "outputs": [],
   "source": [
    "Datos = read_excel('./info.xlsx')"
   ]
  },
  {
   "cell_type": "code",
   "execution_count": 219,
   "metadata": {},
   "outputs": [
    {
     "data": {
      "text/html": [
       "<div>\n",
       "<style>\n",
       "    .dataframe thead tr:only-child th {\n",
       "        text-align: right;\n",
       "    }\n",
       "\n",
       "    .dataframe thead th {\n",
       "        text-align: left;\n",
       "    }\n",
       "\n",
       "    .dataframe tbody tr th {\n",
       "        vertical-align: top;\n",
       "    }\n",
       "</style>\n",
       "<table border=\"1\" class=\"dataframe\">\n",
       "  <thead>\n",
       "    <tr style=\"text-align: right;\">\n",
       "      <th></th>\n",
       "      <th>Kgs</th>\n",
       "      <th>MineralSiNo</th>\n",
       "    </tr>\n",
       "    <tr>\n",
       "      <th>Materiales</th>\n",
       "      <th></th>\n",
       "      <th></th>\n",
       "    </tr>\n",
       "  </thead>\n",
       "  <tbody>\n",
       "    <tr>\n",
       "      <th>MINERAL CUBOS</th>\n",
       "      <td>3000.0</td>\n",
       "      <td>1.0</td>\n",
       "    </tr>\n",
       "    <tr>\n",
       "      <th>g2v</th>\n",
       "      <td>2100.0</td>\n",
       "      <td>1.0</td>\n",
       "    </tr>\n",
       "  </tbody>\n",
       "</table>\n",
       "</div>"
      ],
      "text/plain": [
       "                  Kgs  MineralSiNo\n",
       "Materiales                        \n",
       "MINERAL CUBOS  3000.0          1.0\n",
       "g2v            2100.0          1.0"
      ]
     },
     "execution_count": 219,
     "metadata": {},
     "output_type": "execute_result"
    }
   ],
   "source": [
    "Datos[\"Inventario\"][Datos[\"Inventario\"][\"MineralSiNo\"]>0]"
   ]
  },
  {
   "cell_type": "code",
   "execution_count": 220,
   "metadata": {},
   "outputs": [
    {
     "data": {
      "text/plain": [
       "0"
      ]
     },
     "execution_count": 220,
     "metadata": {},
     "output_type": "execute_result"
    }
   ],
   "source": [
    "len(RestriMinerales)"
   ]
  },
  {
   "cell_type": "code",
   "execution_count": 221,
   "metadata": {},
   "outputs": [],
   "source": [
    "#Minerales\n",
    "RestriMinerales = Datos[\"Inventario\"][Datos[\"Inventario\"][\"MineralSiNo\"]>0].index"
   ]
  },
  {
   "cell_type": "code",
   "execution_count": 222,
   "metadata": {
    "scrolled": false
   },
   "outputs": [
    {
     "data": {
      "text/plain": [
       "(3800.0, 4000.0)"
      ]
     },
     "execution_count": 222,
     "metadata": {},
     "output_type": "execute_result"
    }
   ],
   "source": [
    "#MAx min kgs \n",
    "Datos[\"Restricciones\"].loc[\"Kg\"][0],Datos[\"Restricciones\"].loc[\"Kg\"][1]"
   ]
  },
  {
   "cell_type": "code",
   "execution_count": 223,
   "metadata": {},
   "outputs": [
    {
     "data": {
      "text/plain": [
       "(0.0, 1400.0)"
      ]
     },
     "execution_count": 223,
     "metadata": {},
     "output_type": "execute_result"
    }
   ],
   "source": [
    "Datos[\"Restricciones\"].loc[\"Mineral\"][0],Datos[\"Restricciones\"].loc[\"Mineral\"][1]"
   ]
  },
  {
   "cell_type": "code",
   "execution_count": 224,
   "metadata": {},
   "outputs": [
    {
     "data": {
      "text/plain": [
       "0.88"
      ]
     },
     "execution_count": 224,
     "metadata": {},
     "output_type": "execute_result"
    }
   ],
   "source": [
    "#list(Datos[\"Varproducto\"].index)\n",
    "Datos[\"contribucion\"][\"Eficiencia\"][0]"
   ]
  },
  {
   "cell_type": "code",
   "execution_count": 225,
   "metadata": {},
   "outputs": [],
   "source": [
    "#Ingredients #,'HOJUELA ALUMINIO'\n",
    "#list(Datos[\"Varproducto\"].index)"
   ]
  },
  {
   "cell_type": "code",
   "execution_count": 226,
   "metadata": {},
   "outputs": [
    {
     "data": {
      "text/plain": [
       "<pyomo.core.kernel.expr_coopr3._ProductExpression at 0x21672c02d80>"
      ]
     },
     "execution_count": 226,
     "metadata": {},
     "output_type": "execute_result"
    }
   ],
   "source": [
    "i='HOJUELA ALUMINIO'\n",
    "model.ingredient_vars[i]*Datos[\"contribucion\"][\"Eficiencia\"][i]"
   ]
  },
  {
   "cell_type": "markdown",
   "metadata": {},
   "source": [
    "- Modificado con Datos[\"Restricciones\"].loc[\"Kg\"][0] para añadir un peso minimo y un peso maximo"
   ]
  },
  {
   "cell_type": "code",
   "execution_count": 227,
   "metadata": {},
   "outputs": [],
   "source": [
    "#def Optimiza(self):\n",
    "    #Generar un try y catch para ver si ya se cargo los datos o poner otros\n",
    "    #Datos = read_excel('./VerdeReducido2.xlsx')\n",
    "    \n",
    "    #Datos = self.Datos\n",
    "Datos[\"Varproducto\"].fillna(0,inplace=True)\n",
    "Datos[\"contribucion\"].fillna(0,inplace=True)\n",
    "Datos[\"requeri\"]= Datos[\"requeri\"][ Datos[\"requeri\"][\"MAX\"]!= 0]\n",
    "#Datos[\"requeri\"] # Eliminando variables\n",
    "# Variables a optimizar pollo carne arroz etc.\n",
    "Ingredients =  list(Datos[\"Varproducto\"].index)\n",
    "#Ingredients\n",
    "Varproducto = Datos[\"Varproducto\"]\n",
    "#Restriccion de minerales\n",
    "RestriMinerales = Datos[\"Inventario\"][Datos[\"Inventario\"][\"MineralSiNo\"]>0].index\n",
    "\n",
    "model = ConcreteModel(name=\"The Verde Problem\")\n",
    "\n",
    "model.ingredient_vars = Var(Ingredients, bounds=(0,None), doc=\"The amount of each ingredient that is used\")\n",
    "\n",
    "model.obj = Objective(expr=sum(Varproducto.Precio[i]*model.ingredient_vars[i] for i in Ingredients)/sum(model.ingredient_vars[i]*Datos[\"contribucion\"][\"Eficiencia\"][i]  for i in Ingredients) ,sense=minimize, doc=\"Total Cost of Ingredients per can\")\n",
    "\n",
    "#Restriccion de kg finales entonces depende de la eficiencia\n",
    "# Hay que modificar.\n",
    "\n",
    "model.c0 = Constraint(expr=sum(model.ingredient_vars[i]*Datos[\"contribucion\"][\"Eficiencia\"][i]  for i in Ingredients) <= Datos[\"Restricciones\"].loc[\"Kg\"][1], doc=\"PercentagesSum\")\n",
    "model.c02 = Constraint(expr=sum(model.ingredient_vars[i]*Datos[\"contribucion\"][\"Eficiencia\"][i]  for i in Ingredients) >= Datos[\"Restricciones\"].loc[\"Kg\"][0], doc=\"PercentagesSum2\")\n",
    "\n",
    "### Restriccion dekg para los minerales sean menores a 1400\n",
    "#Con la eficiencia se calcula el kg\n",
    "if len(RestriMinerales)>0:\n",
    "    #model.c03 = Constraint(expr=sum(model.ingredient_vars[i]*Datos[\"contribucion\"][\"Eficiencia\"][i]  for i in RestriMinerales) <= Datos[\"Restricciones\"].loc[\"Mineral\"][1], doc=\"PercentagesSum3\")\n",
    "    #model.c04 = Constraint(expr=sum(model.ingredient_vars[i]*Datos[\"contribucion\"][\"Eficiencia\"][i]  for i in RestriMinerales) >= Datos[\"Restricciones\"].loc[\"Mineral\"][0], doc=\"PercentagesSum4\")\n",
    "    model.c03 = Constraint(expr=sum(model.ingredient_vars[i]  for i in RestriMinerales) <= Datos[\"Restricciones\"].loc[\"Mineral\"][1], doc=\"PercentagesSum3\")\n",
    "    model.c04 = Constraint(expr=sum(model.ingredient_vars[i]  for i in RestriMinerales) >= Datos[\"Restricciones\"].loc[\"Mineral\"][0], doc=\"PercentagesSum4\")\n",
    "\n",
    "\n",
    "composicionesQ = list(Datos[\"requeri\"].index)\n",
    "\n",
    "#you can use rules to construct the constraints for all p \\in P.\n",
    "\n",
    "def constraint1_ruleMin(m,p):\n",
    "#    return sum(Datos[\"contribucion\"][p][i] * model.ingredient_vars[i] for i in Ingredients) >= Datos[\"requeri\"][\"MIN\"][p]\n",
    "    return ( (sum(Datos[\"contribucion\"][p][i] * model.ingredient_vars[i]*Datos[\"contribucion\"][\"Eficiencia\"][i] for i in Ingredients)/\n",
    "                      (sum( model.ingredient_vars[i]*Datos[\"contribucion\"][\"Eficiencia\"][i] for i in Ingredients)) )/100\n",
    "                      >= Datos[\"requeri\"][\"MIN\"][p])\n",
    "\n",
    "#model.c1 = Constraint([p for p in Ps],rule=constraint2_rule)\n",
    "\n",
    "def constraint1_ruleMax(m,p):\n",
    "#   return sum(Datos[\"contribucion\"][p][i] * model.ingredient_vars[i] for i in Ingredients) <= Datos[\"requeri\"][\"MAX\"][p]\n",
    "    return ( (sum(Datos[\"contribucion\"][p][i] * model.ingredient_vars[i]*Datos[\"contribucion\"][\"Eficiencia\"][i] for i in Ingredients)/\n",
    "                      (sum( model.ingredient_vars[i]*Datos[\"contribucion\"][\"Eficiencia\"][i] for i in Ingredients)) )/100\n",
    "                      <= Datos[\"requeri\"][\"MAX\"][p])\n",
    "\n",
    "\n",
    "def constraint1_ruleInventario(m,p):\n",
    "    return (model.ingredient_vars[p]  <= Datos[\"Inventario\"][\"Kgs\"][p])\n",
    "\n",
    "model.c1 = Constraint(composicionesQ,rule=constraint1_ruleMin)\n",
    "\n",
    "model.c2 = Constraint(composicionesQ,rule=constraint1_ruleMax)\n",
    "\n",
    "model.c3 = Constraint(Ingredients,rule=constraint1_ruleInventario)\n",
    "\n",
    "solver = SolverFactory('ipopt')\n",
    "#status = solver.solve(model,tee=True)\n",
    "status = solver.solve(model)\n"
   ]
  },
  {
   "cell_type": "code",
   "execution_count": 228,
   "metadata": {},
   "outputs": [
    {
     "name": "stdout",
     "output_type": "stream",
     "text": [
      "Status = optimal\n",
      "ingredient_vars[LAMINA LITOGRAFICA] = 0.000001\n",
      "ingredient_vars[HOJUELA ALUMINIO] = 0.000002\n",
      "ingredient_vars[SILICIO ] = 98.590159\n",
      "ingredient_vars[ALUMINIO GRUESO] = 0.000002\n",
      "ingredient_vars[RIN CHICO] = 0.000002\n",
      "ingredient_vars[PACA PREMIUM FOREMEX] = 0.000005\n",
      "ingredient_vars[RAD. PREMIUM ] = 0.000001\n",
      "ingredient_vars[RAD.ALUMINIO 2da. ] = 0.000002\n",
      "ingredient_vars[RAD. VENA DE COBRE] = 0.000001\n",
      "ingredient_vars[PERFIL VENTANERIA] = 0.000002\n",
      "ingredient_vars[PERFIL GRUESO] = 0.000004\n",
      "ingredient_vars[PERFIL TROQUELADP CCDDC] = 0.000013\n",
      "ingredient_vars[PERFIL TROQUELADO LT18] = 240.561470\n",
      "ingredient_vars[PERFIL TROQUELADO 8N] = 831.476735\n",
      "ingredient_vars[CABEZA DE ALUMINIO] = 0.000002\n",
      "ingredient_vars[MULTIPLE ADMISION] = 0.000002\n",
      "ingredient_vars[PISTON] = 0.000002\n",
      "ingredient_vars[CABLE PURO] = 0.000002\n",
      "ingredient_vars[CABLE ALCu] = 5.354315\n",
      "ingredient_vars[PACA DELGADO] = 0.000002\n",
      "ingredient_vars[P. DELGADO HIGH COMODITY] = 0.000002\n",
      "ingredient_vars[DELGADO A GRANEL] = 0.000002\n",
      "ingredient_vars[SERIE 1000] = 0.000002\n",
      "ingredient_vars[ALUMINIO SERIE 1000] = 0.000003\n",
      "ingredient_vars[HOJARAZCA JATCO] = 0.000011\n",
      "ingredient_vars[PLANCHA] = 0.000001\n",
      "ingredient_vars[BOTE BBC] = 0.000003\n",
      "ingredient_vars[TUBO MEDICINAL] = 0.000002\n",
      "ingredient_vars[CHOP CABLE SERIE 6000] = 0.000002\n",
      "ingredient_vars[ALUM SERIE 3105] = 0.000003\n",
      "ingredient_vars[RADIADOR 1100] = 0.000002\n",
      "ingredient_vars[CREMALLERA] = 78.000000\n",
      "ingredient_vars[CABEZA DE CILINDRO HIGCOMODITIES] = 0.000012\n",
      "ingredient_vars[COBRE DE PRIMERA ] = 0.000000\n",
      "ingredient_vars[COBRE DE SEGUNDA] = 0.000000\n",
      "ingredient_vars[MINERAL  JATCO] = 1793.726020\n",
      "ingredient_vars[MINERAL NMEX] = 0.000020\n",
      "ingredient_vars[TIERRAS ESC HUMEDA] = 0.000006\n",
      "ingredient_vars[COLADA NMEX] = 0.000001\n",
      "ingredient_vars[CABEZA C/ARENA NMEX] = 0.000001\n",
      "ingredient_vars[MINERAL CUBOS] = 1399.999994\n",
      "ingredient_vars[MONOBLOCK ADC 12 Z] = 0.000002\n",
      "ingredient_vars[Mta.  Mn. ] = 0.000000\n",
      "ingredient_vars[FERROSILICIO] = 0.000000\n",
      "ingredient_vars[MAESTRA DE NIQUEL INTERNA 20%] = 0.000000\n",
      "ingredient_vars[MTRA. NIQUEL MARCO METALES] = 0.000000\n",
      "ingredient_vars[SILICIO ALTO CALCIO] = 0.000003\n",
      "ingredient_vars[PLASTA DE ADC 12-Z] = 0.000000\n",
      "ingredient_vars[GRANALLA R&R] = 0.000001\n",
      "ingredient_vars[GRANALLA ALULIQ] = 0.000001\n",
      "ingredient_vars[MINERAL CUBOS ALULIQ] = 499.999994\n",
      "ingredient_vars[SALES] = 0.000002\n",
      "ingredient_vars[CABEZA DE CILINDRO MAQUINADO NMEX] = 0.000001\n",
      "ingredient_vars[MINERAL  JATCO TEM] = 186.999982\n",
      "ingredient_vars[g2v] = 0.000018\n",
      "Objective = 18.718523\n"
     ]
    }
   ],
   "source": [
    "print(\"Status = %s\" % status.solver.termination_condition)\n",
    "\n",
    "for i in Ingredients:\n",
    "    print(\"%s = %f\" % (model.ingredient_vars[i], value(model.ingredient_vars[i])))\n",
    "\n",
    "print(\"Objective = %f\" % value(model.obj))"
   ]
  },
  {
   "cell_type": "code",
   "execution_count": 202,
   "metadata": {},
   "outputs": [],
   "source": [
    "\"\"\"\n",
    "print(\"Status = %s\" % status.solver.termination_condition)\n",
    "\n",
    "for i in Ingredients:\n",
    "    print(\"%s = %f\" % (model.ingredient_vars[i], value(model.ingredient_vars[i])))\n",
    "\n",
    "print(\"Objective = %f\" % value(model.obj))\n",
    "\"\"\"\n",
    "\n",
    "ing = []\n",
    "canIng = []\n",
    "ing.append(\"Status = \")\n",
    "canIng.append(str(status.solver.termination_condition) )\n",
    "for i in Ingredients:\n",
    "    ing.append(str(model.ingredient_vars[i]).replace(\"ingredient_vars[\",\"\").replace(\"]\",\"\"))\n",
    "    canIng.append( round( float(value(model.ingredient_vars[i])) ,4) )\n",
    "\n",
    "ing.append(\"Objective = \")\n",
    "canIng.append(str(value(model.obj)))\n",
    "\n",
    "#self.DataFrame_Resultado = pd.DataFrame(canIng,ing,columns=[\"Cantidad\"])\n",
    "DataFrame_Resultado = pd.DataFrame(canIng,ing,columns=[\"Cantidad\"])\n",
    "\n",
    "#return pd.DataFrame(canIng,ing,columns=[\"Cantidad\"])"
   ]
  },
  {
   "cell_type": "code",
   "execution_count": 203,
   "metadata": {},
   "outputs": [
    {
     "name": "stdout",
     "output_type": "stream",
     "text": [
      "SI -> 0.100000 <= 0.100000<= 0.118000\n",
      "CU -> 0.018000 <= 0.018720<= 0.033000\n",
      "FE -> 0.006500 <= 0.010000<= 0.010000\n",
      "MG -> 0.001200 <= 0.003000<= 0.003000\n",
      "ZN -> 0.000000 <= 0.010036<= 0.028000\n",
      "MN -> 0.000000 <= 0.003333<= 0.005000\n",
      "NI -> 0.000000 <= 0.003042<= 0.005000\n",
      "Sn -> 0.000000 <= 0.000097<= 0.003000\n"
     ]
    }
   ],
   "source": [
    "indx=20\n",
    "for p in composicionesQ:\n",
    "    tmp =(sum(Datos[\"contribucion\"][p][i] * value(model.ingredient_vars[i])*Datos[\"contribucion\"][\"Eficiencia\"][i] for i in Ingredients)/\n",
    "                      (sum( value(model.ingredient_vars[i])*Datos[\"contribucion\"][\"Eficiencia\"][i] for i in Ingredients)  ) )/100\n",
    "    print(\"%s -> %f <= %f<= %f\" % (p,Datos[\"requeri\"][\"MIN\"][p] ,tmp, Datos[\"requeri\"][\"MAX\"][p] ) )    \n",
    "    sht.range('B'+str(indx)).value= (p,Datos[\"requeri\"][\"MIN\"][p] ,tmp, Datos[\"requeri\"][\"MAX\"][p] )\n",
    "    indx+=1\n",
    "#    print (\"%s -> %f <= %f<= %f\" % (p,Datos[\"requeri\"][\"MIN\"][p] ,sum(Datos[\"contribucion\"][p][i] * value(model.ingredient_vars[i]) for i in Ingredients), Datos[\"requeri\"][\"MAX\"][p] ) )"
   ]
  },
  {
   "cell_type": "code",
   "execution_count": 172,
   "metadata": {},
   "outputs": [
    {
     "data": {
      "text/plain": [
       "<Book [info.xlsx]>"
      ]
     },
     "execution_count": 172,
     "metadata": {},
     "output_type": "execute_result"
    }
   ],
   "source": [
    "WB"
   ]
  },
  {
   "cell_type": "code",
   "execution_count": 173,
   "metadata": {},
   "outputs": [],
   "source": [
    "sht = WB.sheets[\"Balance\"]\n",
    "sht.range('B20').value= (p,Datos[\"requeri\"][\"MIN\"][p] ,tmp, Datos[\"requeri\"][\"MAX\"][p] )"
   ]
  },
  {
   "cell_type": "code",
   "execution_count": 159,
   "metadata": {},
   "outputs": [
    {
     "data": {
      "text/plain": [
       "('Sn', 0.0, 0.00012133465121964596, 0.003)"
      ]
     },
     "execution_count": 159,
     "metadata": {},
     "output_type": "execute_result"
    }
   ],
   "source": [
    "(p,Datos[\"requeri\"][\"MIN\"][p] ,tmp, Datos[\"requeri\"][\"MAX\"][p] )"
   ]
  },
  {
   "cell_type": "code",
   "execution_count": null,
   "metadata": {},
   "outputs": [],
   "source": []
  },
  {
   "cell_type": "code",
   "execution_count": 204,
   "metadata": {},
   "outputs": [],
   "source": [
    "def GuardarDatos(self):\n",
    "    #sht = self.WB.sheets[\"Resultado\"]\n",
    "    sht = WB.sheets[\"Resultado\"]\n",
    "    sht.range('A1').value = self.DataFrame_Resultado"
   ]
  },
  {
   "cell_type": "code",
   "execution_count": null,
   "metadata": {},
   "outputs": [],
   "source": []
  },
  {
   "cell_type": "code",
   "execution_count": null,
   "metadata": {
    "collapsed": true
   },
   "outputs": [],
   "source": []
  }
 ],
 "metadata": {
  "kernelspec": {
   "display_name": "Python 3",
   "language": "python",
   "name": "python3"
  },
  "language_info": {
   "codemirror_mode": {
    "name": "ipython",
    "version": 3
   },
   "file_extension": ".py",
   "mimetype": "text/x-python",
   "name": "python",
   "nbconvert_exporter": "python",
   "pygments_lexer": "ipython3",
   "version": "3.6.3"
  }
 },
 "nbformat": 4,
 "nbformat_minor": 2
}
